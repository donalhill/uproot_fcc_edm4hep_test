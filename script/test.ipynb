{
 "cells": [
  {
   "cell_type": "markdown",
   "metadata": {},
   "source": [
    "Import the master of `uproot4` to pick up recent fixes:"
   ]
  },
  {
   "cell_type": "code",
   "execution_count": 10,
   "metadata": {},
   "outputs": [],
   "source": [
    "import uproot4 as uproot\n",
    "import numpy as np\n",
    "import awkward1 as ak\n",
    "import matplotlib.pyplot as plt"
   ]
  },
  {
   "cell_type": "markdown",
   "metadata": {},
   "source": [
    "Load `events` tree from file:"
   ]
  },
  {
   "cell_type": "code",
   "execution_count": 3,
   "metadata": {
    "scrolled": true
   },
   "outputs": [],
   "source": [
    "file = uproot.open(\"../data/test.root\")\n",
    "tree = file['events']"
   ]
  },
  {
   "cell_type": "markdown",
   "metadata": {},
   "source": [
    "Access reco particles:"
   ]
  },
  {
   "cell_type": "code",
   "execution_count": 7,
   "metadata": {},
   "outputs": [
    {
     "data": {
      "text/plain": [
       "['ReconstructedParticles.type',\n",
       " 'ReconstructedParticles.energy',\n",
       " 'ReconstructedParticles.momentum.x',\n",
       " 'ReconstructedParticles.momentum.y',\n",
       " 'ReconstructedParticles.momentum.z',\n",
       " 'ReconstructedParticles.referencePoint.x',\n",
       " 'ReconstructedParticles.referencePoint.y',\n",
       " 'ReconstructedParticles.referencePoint.z',\n",
       " 'ReconstructedParticles.charge',\n",
       " 'ReconstructedParticles.mass',\n",
       " 'ReconstructedParticles.goodnessOfPID',\n",
       " 'ReconstructedParticles.covMatrix[10]',\n",
       " 'ReconstructedParticles.clusters_begin',\n",
       " 'ReconstructedParticles.clusters_end',\n",
       " 'ReconstructedParticles.tracks_begin',\n",
       " 'ReconstructedParticles.tracks_end',\n",
       " 'ReconstructedParticles.particles_begin',\n",
       " 'ReconstructedParticles.particles_end',\n",
       " 'ReconstructedParticles.particleIDs_begin',\n",
       " 'ReconstructedParticles.particleIDs_end']"
      ]
     },
     "execution_count": 7,
     "metadata": {},
     "output_type": "execute_result"
    }
   ],
   "source": [
    "p_container = \"ReconstructedParticles\"\n",
    "p = tree.arrays(filter_name=f\"{p_container}/{p_container}*\")#,how=\"zip\")\n",
    "ak.keys(p)"
   ]
  },
  {
   "cell_type": "markdown",
   "metadata": {},
   "source": [
    "Calculate momentum, create a cut and apply it:"
   ]
  },
  {
   "cell_type": "code",
   "execution_count": 9,
   "metadata": {},
   "outputs": [
    {
     "data": {
      "text/plain": [
       "['ReconstructedParticles.type',\n",
       " 'ReconstructedParticles.energy',\n",
       " 'ReconstructedParticles.momentum.x',\n",
       " 'ReconstructedParticles.momentum.y',\n",
       " 'ReconstructedParticles.momentum.z',\n",
       " 'ReconstructedParticles.referencePoint.x',\n",
       " 'ReconstructedParticles.referencePoint.y',\n",
       " 'ReconstructedParticles.referencePoint.z',\n",
       " 'ReconstructedParticles.charge',\n",
       " 'ReconstructedParticles.mass',\n",
       " 'ReconstructedParticles.goodnessOfPID',\n",
       " 'ReconstructedParticles.covMatrix[10]',\n",
       " 'ReconstructedParticles.clusters_begin',\n",
       " 'ReconstructedParticles.clusters_end',\n",
       " 'ReconstructedParticles.tracks_begin',\n",
       " 'ReconstructedParticles.tracks_end',\n",
       " 'ReconstructedParticles.particles_begin',\n",
       " 'ReconstructedParticles.particles_end',\n",
       " 'ReconstructedParticles.particleIDs_begin',\n",
       " 'ReconstructedParticles.particleIDs_end',\n",
       " 'ReconstructedParticles.p']"
      ]
     },
     "execution_count": 9,
     "metadata": {},
     "output_type": "execute_result"
    }
   ],
   "source": [
    "prefix = \"momentum\"\n",
    "p[f'{p_container}.p'] = np.sqrt(p[f'{p_container}.{prefix}.x']**2 + p[f'{p_container}.{prefix}.y']**2 + p[f'{p_container}.{prefix}.z']**2)\n",
    "p_cut = p[f'{p_container}.p'] > 2.\n",
    "p = p[p_cut]"
   ]
  },
  {
   "cell_type": "code",
   "execution_count": 11,
   "metadata": {},
   "outputs": [
    {
     "data": {
      "image/png": "[encoded data removed]",
      "text/plain": [
       "<Figure size 432x288 with 1 Axes>"
      ]
     },
     "metadata": {
      "needs_background": "light"
     },
     "output_type": "display_data"
    }
   ],
   "source": [
    "plt.hist(ak.flatten(p[f'{p_container}.p']),bins=100)\n",
    "plt.show()"
   ]
  }
 ],
 "metadata": {
  "kernelspec": {
   "display_name": "fcc_pyenv",
   "language": "python",
   "name": "fcc_pyenv"
  },
  "language_info": {
   "codemirror_mode": {
    "name": "ipython",
    "version": 3
   },
   "file_extension": ".py",
   "mimetype": "text/x-python",
   "name": "python",
   "nbconvert_exporter": "python",
   "pygments_lexer": "ipython3",
   "version": "3.7.8"
  }
 },
 "nbformat": 4,
 "nbformat_minor": 4
}
